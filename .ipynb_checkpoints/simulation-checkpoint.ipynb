{
 "cells": [
  {
   "cell_type": "code",
   "execution_count": 1,
   "metadata": {
    "collapsed": true
   },
   "outputs": [],
   "source": [
    "import networkx as nx\n",
    "import numpy as np\n",
    "import pandas as pd \n",
    "import matplotlib.pyplot as plt"
   ]
  },
  {
   "cell_type": "code",
   "execution_count": 2,
   "metadata": {
    "collapsed": true
   },
   "outputs": [],
   "source": [
    "nodes = 20\n",
    "p = 0.4\n",
    "pref_range = 10\n",
    "pref_dim = 1\n",
    "mean_pref = 0\n",
    "std_pref = 10"
   ]
  },
  {
   "cell_type": "code",
   "execution_count": 15,
   "metadata": {},
   "outputs": [],
   "source": [
    "friends_pref = {}\n",
    "friends_pref[0] = {}\n",
    "Graph = nx.erdos_renyi_graph(nodes, p)\n",
    "for n in Graph.nodes():\n",
    "    Graph.node[n]['pref'] = [np.random.randint(1, pref_range) for i in range(pref_dim)] \n",
    "edges = Graph.edges()\n",
    "weighted_edges = np.random.normal(mean_pref, std_pref, len(edges))"
   ]
  },
  {
   "cell_type": "code",
   "execution_count": 18,
   "metadata": {},
   "outputs": [
    {
     "ename": "TypeError",
     "evalue": "add_weighted_edges_from() takes from 2 to 3 positional arguments but 4 were given",
     "output_type": "error",
     "traceback": [
      "\u001b[0;31m---------------------------------------------------------------------------\u001b[0m",
      "\u001b[0;31mTypeError\u001b[0m                                 Traceback (most recent call last)",
      "\u001b[0;32m<ipython-input-18-339b8febdf9c>\u001b[0m in \u001b[0;36m<module>\u001b[0;34m()\u001b[0m\n\u001b[1;32m      1\u001b[0m \u001b[0;32mfor\u001b[0m \u001b[0mindex\u001b[0m \u001b[0;32min\u001b[0m \u001b[0mrange\u001b[0m\u001b[0;34m(\u001b[0m\u001b[0mlen\u001b[0m\u001b[0;34m(\u001b[0m\u001b[0medges\u001b[0m\u001b[0;34m)\u001b[0m\u001b[0;34m)\u001b[0m\u001b[0;34m:\u001b[0m\u001b[0;34m\u001b[0m\u001b[0m\n\u001b[0;32m----> 2\u001b[0;31m     \u001b[0mGraph\u001b[0m\u001b[0;34m.\u001b[0m\u001b[0madd_weighted_edges_from\u001b[0m\u001b[0;34m(\u001b[0m\u001b[0medges\u001b[0m\u001b[0;34m[\u001b[0m\u001b[0mindex\u001b[0m\u001b[0;34m]\u001b[0m\u001b[0;34m[\u001b[0m\u001b[0;36m0\u001b[0m\u001b[0;34m]\u001b[0m\u001b[0;34m,\u001b[0m \u001b[0medges\u001b[0m\u001b[0;34m[\u001b[0m\u001b[0mindex\u001b[0m\u001b[0;34m]\u001b[0m\u001b[0;34m[\u001b[0m\u001b[0;36m1\u001b[0m\u001b[0;34m]\u001b[0m\u001b[0;34m,\u001b[0m \u001b[0mweighted_edges\u001b[0m\u001b[0;34m[\u001b[0m\u001b[0mindex\u001b[0m\u001b[0;34m]\u001b[0m\u001b[0;34m)\u001b[0m\u001b[0;34m\u001b[0m\u001b[0m\n\u001b[0m",
      "\u001b[0;31mTypeError\u001b[0m: add_weighted_edges_from() takes from 2 to 3 positional arguments but 4 were given"
     ]
    }
   ],
   "source": [
    "for index in range(len(edges)):\n",
    "    Graph.add_weighted_edges_from([edges[index][0], edges[index][1], weighted_edges[index]])"
   ]
  },
  {
   "cell_type": "code",
   "execution_count": null,
   "metadata": {
    "collapsed": true
   },
   "outputs": [],
   "source": []
  },
  {
   "cell_type": "code",
   "execution_count": null,
   "metadata": {
    "collapsed": true
   },
   "outputs": [],
   "source": []
  },
  {
   "cell_type": "code",
   "execution_count": 13,
   "metadata": {},
   "outputs": [
    {
     "data": {
      "text/plain": [
       "[(0, 2),\n",
       " (0, 5),\n",
       " (0, 6),\n",
       " (0, 7),\n",
       " (0, 11),\n",
       " (0, 12),\n",
       " (0, 15),\n",
       " (0, 18),\n",
       " (1, 6),\n",
       " (1, 12),\n",
       " (1, 13),\n",
       " (1, 15),\n",
       " (1, 17),\n",
       " (1, 18),\n",
       " (2, 4),\n",
       " (2, 7),\n",
       " (2, 12),\n",
       " (2, 13),\n",
       " (2, 19),\n",
       " (3, 12),\n",
       " (3, 15),\n",
       " (3, 18),\n",
       " (3, 19),\n",
       " (4, 7),\n",
       " (4, 9),\n",
       " (4, 15),\n",
       " (4, 19),\n",
       " (5, 8),\n",
       " (5, 12),\n",
       " (5, 13),\n",
       " (5, 16),\n",
       " (5, 19),\n",
       " (6, 9),\n",
       " (6, 11),\n",
       " (6, 16),\n",
       " (6, 17),\n",
       " (7, 8),\n",
       " (7, 9),\n",
       " (7, 11),\n",
       " (7, 17),\n",
       " (7, 18),\n",
       " (8, 12),\n",
       " (8, 13),\n",
       " (8, 16),\n",
       " (8, 17),\n",
       " (8, 19),\n",
       " (9, 12),\n",
       " (9, 14),\n",
       " (9, 19),\n",
       " (10, 11),\n",
       " (10, 12),\n",
       " (10, 13),\n",
       " (10, 16),\n",
       " (11, 13),\n",
       " (11, 16),\n",
       " (11, 17),\n",
       " (12, 16),\n",
       " (12, 19),\n",
       " (13, 16),\n",
       " (13, 18),\n",
       " (13, 19),\n",
       " (14, 15),\n",
       " (14, 18),\n",
       " (15, 16),\n",
       " (15, 18),\n",
       " (15, 19),\n",
       " (16, 17),\n",
       " (16, 18),\n",
       " (17, 18),\n",
       " (18, 19)]"
      ]
     },
     "execution_count": 13,
     "metadata": {},
     "output_type": "execute_result"
    }
   ],
   "source": [
    "Graph.edges()"
   ]
  },
  {
   "cell_type": "code",
   "execution_count": null,
   "metadata": {
    "collapsed": true
   },
   "outputs": [],
   "source": []
  },
  {
   "cell_type": "code",
   "execution_count": null,
   "metadata": {
    "collapsed": true
   },
   "outputs": [],
   "source": []
  },
  {
   "cell_type": "code",
   "execution_count": null,
   "metadata": {
    "collapsed": true
   },
   "outputs": [],
   "source": []
  },
  {
   "cell_type": "code",
   "execution_count": null,
   "metadata": {
    "collapsed": true
   },
   "outputs": [],
   "source": []
  },
  {
   "cell_type": "code",
   "execution_count": null,
   "metadata": {
    "collapsed": true
   },
   "outputs": [],
   "source": []
  }
 ],
 "metadata": {
  "kernelspec": {
   "display_name": "Python 3",
   "language": "python",
   "name": "python3"
  },
  "language_info": {
   "codemirror_mode": {
    "name": "ipython",
    "version": 3
   },
   "file_extension": ".py",
   "mimetype": "text/x-python",
   "name": "python",
   "nbconvert_exporter": "python",
   "pygments_lexer": "ipython3",
   "version": "3.6.1"
  }
 },
 "nbformat": 4,
 "nbformat_minor": 2
}
