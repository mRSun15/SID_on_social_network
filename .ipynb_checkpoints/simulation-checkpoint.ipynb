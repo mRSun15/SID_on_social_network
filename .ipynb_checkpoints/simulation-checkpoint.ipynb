{
 "cells": [
  {
   "cell_type": "code",
   "execution_count": 24,
   "metadata": {
    "collapsed": true
   },
   "outputs": [],
   "source": [
    "%load_ext autoreload\n",
    "%autoreload 2"
   ]
  },
  {
   "cell_type": "code",
   "execution_count": 25,
   "metadata": {
    "collapsed": true
   },
   "outputs": [],
   "source": [
    "import networkx as nx\n",
    "import numpy as np\n",
    "import pandas as pd \n",
    "import matplotlib.pyplot as plt\n",
    "import copy\n",
    "from scipy.linalg import *\n",
    "from model_function import *\n",
    "import pickle\n",
    "import random"
   ]
  },
  {
   "cell_type": "code",
   "execution_count": 20,
   "metadata": {
    "collapsed": true
   },
   "outputs": [],
   "source": [
    "def draw_graph(Graph, node_value_list):\n",
    "    node_size = []\n",
    "    node_color = []\n",
    "    count = 0\n",
    "    for node in Graph.nodes():\n",
    "        if node_value_list[count] >= 0:\n",
    "            node_size.append(10000*node_value_list[count])\n",
    "            node_color.append('red')\n",
    "        else:\n",
    "            node_size.append(10000*np.abs(node_value_list[count]))\n",
    "            node_color.append('blue')\n",
    "        count += 1\n",
    "    pos = nx.spring_layout(Graph)\n",
    "    nx.draw(G=Graph, \n",
    "           pos=pos,\n",
    "           cmap=plt.get_cmap('jet'),\n",
    "           with_labels=True,\n",
    "           node_size=node_size,\n",
    "           labels={node: node for node in Graph.nodes()},\n",
    "           node_color=node_color)\n",
    "    plt.title(\"eigenvector centrality for graph\")\n",
    "    plt.show()"
   ]
  },
  {
   "cell_type": "code",
   "execution_count": 4,
   "metadata": {},
   "outputs": [
    {
     "name": "stdout",
     "output_type": "stream",
     "text": [
      "X is: []\n"
     ]
    }
   ],
   "source": [
    "homo_degrees = ['weak','2_meduim','1_medium','medium','medium_1','medium_2','medium_3','strong']\n",
    "\n",
    "X_number = 10\n",
    "random_set = [-1, 1]\n",
    "X_list = []\n",
    "Product_list = [[-1,-1], [-1, 1], [1, -1], [1,1]]\n",
    "policies = ['thompson','greedy', 'e-greedy','balanced', 'ucb']\n",
    "eps_s = [0.1,0.3,0.5,0.7,0.9]\n",
    "count = 0\n",
    "overall_reward = {}\n",
    "overall_variance = {}\n",
    "total_epochs = 2\n",
    "print(\"X is:\", X_list)\n",
    "rank_list = {}\n",
    "Graph_list = {}\n",
    "overall_phase_adopted = {}\n",
    "overall_pair_vectors = []\n",
    "overall_processed_res = []\n",
    "overall_mse_list = []\n",
    "overall_network_pref = []\n"
   ]
  },
  {
   "cell_type": "code",
   "execution_count": 6,
   "metadata": {},
   "outputs": [],
   "source": [
    "for policy in policies:\n",
    "    if policy == 'e-greedy':\n",
    "        for eps in eps_s:\n",
    "            overall_reward[policy+str(eps)] = []\n",
    "            overall_variance[policy+str(eps)] = []\n",
    "            overall_phase_adopted[policy+str(eps)] = []\n",
    "    else:\n",
    "        overall_reward[policy] = []\n",
    "        overall_variance[policy] = []\n",
    "        overall_phase_adopted[policy] = []"
   ]
  },
  {
   "cell_type": "code",
   "execution_count": 10,
   "metadata": {},
   "outputs": [
    {
     "name": "stderr",
     "output_type": "stream",
     "text": [
      "/Users/sun/anaconda/lib/python3.6/site-packages/scipy/linalg/basic.py:1321: RuntimeWarning: internal gelsd driver lwork query error, required iwork dimension not returned. This is likely the result of LAPACK bug 0038, fixed in LAPACK 3.2.2 (released July 21, 2010). Falling back to 'gelss' driver.\n",
      "  x, resids, rank, s = lstsq(a, b, cond=cond, check_finite=False)\n"
     ]
    }
   ],
   "source": [
    "homo_deg = 'medium'\n",
    "Graph, friend_pref, adopt_nodes = create_network(node_num=400,\n",
    "                                                 p=0.1,\n",
    "                                                 pref_range=10,\n",
    "                                                 pref_dim=2,\n",
    "                                                 homo_degree=homo_deg)"
   ]
  },
  {
   "cell_type": "code",
   "execution_count": 11,
   "metadata": {
    "collapsed": true
   },
   "outputs": [],
   "source": [
    "Products = {\"positive\": [], \"negative\": []}\n",
    "for product in Product_list:\n",
    "    if Product_Property_Catch(Graph, product) > 0:\n",
    "        Products['positive'].append(product)\n",
    "    else:\n",
    "        Products['negative'].append(product)"
   ]
  },
  {
   "cell_type": "code",
   "execution_count": 12,
   "metadata": {},
   "outputs": [
    {
     "data": {
      "text/plain": [
       "{'negative': [[-1, -1], [-1, 1]], 'positive': [[1, -1], [1, 1]]}"
      ]
     },
     "execution_count": 12,
     "metadata": {},
     "output_type": "execute_result"
    }
   ],
   "source": [
    "Products"
   ]
  },
  {
   "cell_type": "code",
   "execution_count": 14,
   "metadata": {
    "collapsed": true
   },
   "outputs": [],
   "source": [
    "pos_prods = np.random.choice(np.arange(len(Products['positive'])), int(X_number*0.7), replace=True).tolist()\n",
    "pos_prods = [Products['positive'][i] for i in pos_prods]\n",
    "neg_prods = np.random.choice(np.arange(len(Products['negative'])), int(X_number*0.3), replace=True).tolist()\n",
    "neg_prods = [Products['negative'][i] for i in neg_prods]\n",
    "X_list = pos_prods + neg_prods"
   ]
  },
  {
   "cell_type": "code",
   "execution_count": 16,
   "metadata": {},
   "outputs": [
    {
     "name": "stdout",
     "output_type": "stream",
     "text": [
      "[[1, -1], [1, 1], [1, 1], [1, -1], [1, 1], [1, -1], [1, -1], [-1, 1], [-1, 1], [-1, 1]]\n",
      "[[1, 1], [1, -1], [1, -1], [-1, 1], [1, -1], [1, 1], [-1, 1], [1, 1], [1, -1], [-1, 1]]\n"
     ]
    }
   ],
   "source": [
    "print(X_list)\n",
    "random.shuffle(X_list)\n",
    "print(X_list)"
   ]
  },
  {
   "cell_type": "code",
   "execution_count": 22,
   "metadata": {},
   "outputs": [],
   "source": [
    "temp_pair_vectors = {}\n",
    "temp_process_result = {}\n",
    "temp_mse_list = {}\n",
    "eigen_central_vector = graph_eigen_centrality(Graph)\n",
    "temp_pair_vectors['network'] = eigen_central_vector"
   ]
  },
  {
   "cell_type": "code",
   "execution_count": null,
   "metadata": {
    "collapsed": true
   },
   "outputs": [],
   "source": [
    "for policy in policies:\n",
    "    if policy == 'e-greedy':\n",
    "        for eps in eps_s:\n",
    "            temp_mse_list[policy + str(eps)] = {}\n",
    "            temp_process_result[policy + str(eps)] = {}\n",
    "            new_graph = copy.deepcopy(Graph)\n",
    "            new_adopted_node = copy.deepcopy(adopt_nodes)\n",
    "            new_friend_pref = copy.deepcopy(friend_pref)\n",
    "            # plt.subplot(161+count)\n",
    "            # count += 1\n",
    "            temp_reward, temp_reputation, temp_phase_adopted = plot_reward(individual_type='neutral',\n",
    "                                                         policy=policy,\n",
    "                                                         X_list = Product_list,\n",
    "                                                         Graph=new_graph,\n",
    "                                                         friend_est_pref=new_friend_pref,\n",
    "                                                         adopted_node=new_adopted_node,\n",
    "                                                         eps_greedy=eps,\n",
    "                                                         time_step=8,\n",
    "                                                         process_result=temp_process_result[policy+str(eps)],\n",
    "                                                         pref_mse_list=temp_mse_list[policy + str(eps)])\n",
    "\n",
    "            if len(temp_process_result[policy+str(eps)].keys()) == 0:\n",
    "                print(\"process_result is None, Error!\")\n",
    "                exit(0)\n",
    "            overall_phase_adopted[policy+str(eps)].append(temp_phase_adopted)\n",
    "            temp_pair_vectors[policy+str(eps)] = np.array(list(temp_reward.values()))\n",
    "            overall_reward[policy+str(eps)].append(np.sum(list(temp_reward.values())))\n",
    "            overall_variance[policy+str(eps)].append(np.var([rep for k, rep in temp_reward.items()]))\n",
    "    else:\n",
    "        temp_process_result[policy] = {}\n",
    "        temp_mse_list[policy + str(eps)] = {}\n",
    "        new_graph = copy.deepcopy(Graph)\n",
    "        new_adopted_node = copy.deepcopy(adopt_nodes)\n",
    "        new_friend_pref = copy.deepcopy(friend_pref)\n",
    "        temp_reward, temp_reputation, temp_phase_adopted = plot_reward(individual_type='neutral',\n",
    "                                                     policy=policy,\n",
    "                                                     X_list=Product_list,\n",
    "                                                     Graph=new_graph,\n",
    "                                                     friend_est_pref=new_friend_pref,\n",
    "                                                     adopted_node=new_adopted_node,\n",
    "                                                     time_step=8,\n",
    "                                                     process_result=temp_process_result[policy],\n",
    "                                                     pref_mse_list=temp_mse_list[policy + str(eps)])\n",
    "        overall_phase_adopted[policy].append(temp_phase_adopted)\n",
    "        overall_reward[policy].append(np.sum(list(temp_reward.values())))\n",
    "        overall_variance[policy].append(np.var([rep for k, rep in temp_reward.items()]))\n",
    "        temp_pair_vectors[policy] = np.array(list(temp_reward.values()))\n",
    "overall_pair_vectors.append(temp_pair_vectors)\n",
    "overall_processed_res.append(temp_process_result)\n",
    "overall_mse_list.append(temp_mse_list)\n"
   ]
  },
  {
   "cell_type": "code",
   "execution_count": null,
   "metadata": {
    "collapsed": true
   },
   "outputs": [],
   "source": []
  },
  {
   "cell_type": "code",
   "execution_count": null,
   "metadata": {
    "collapsed": true
   },
   "outputs": [],
   "source": []
  },
  {
   "cell_type": "code",
   "execution_count": null,
   "metadata": {
    "collapsed": true
   },
   "outputs": [],
   "source": []
  },
  {
   "cell_type": "code",
   "execution_count": null,
   "metadata": {
    "collapsed": true
   },
   "outputs": [],
   "source": []
  },
  {
   "cell_type": "code",
   "execution_count": null,
   "metadata": {
    "collapsed": true
   },
   "outputs": [],
   "source": []
  },
  {
   "cell_type": "code",
   "execution_count": null,
   "metadata": {
    "collapsed": true
   },
   "outputs": [],
   "source": []
  },
  {
   "cell_type": "code",
   "execution_count": null,
   "metadata": {
    "collapsed": true
   },
   "outputs": [],
   "source": []
  },
  {
   "cell_type": "code",
   "execution_count": null,
   "metadata": {
    "collapsed": true
   },
   "outputs": [],
   "source": []
  },
  {
   "cell_type": "code",
   "execution_count": null,
   "metadata": {
    "collapsed": true
   },
   "outputs": [],
   "source": []
  },
  {
   "cell_type": "code",
   "execution_count": null,
   "metadata": {
    "collapsed": true
   },
   "outputs": [],
   "source": []
  }
 ],
 "metadata": {
  "kernelspec": {
   "display_name": "Python 3",
   "language": "python",
   "name": "python3"
  },
  "language_info": {
   "codemirror_mode": {
    "name": "ipython",
    "version": 3
   },
   "file_extension": ".py",
   "mimetype": "text/x-python",
   "name": "python",
   "nbconvert_exporter": "python",
   "pygments_lexer": "ipython3",
   "version": "3.6.1"
  }
 },
 "nbformat": 4,
 "nbformat_minor": 2
}
